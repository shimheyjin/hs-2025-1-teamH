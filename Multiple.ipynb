{
 "cells": [
  {
   "cell_type": "code",
   "execution_count": 1,
   "id": "1239d55b",
   "metadata": {},
   "outputs": [],
   "source": [
    "#import\n",
    "\n",
    "import pandas as pd\n",
    "from sklearn import linear_model"
   ]
  },
  {
   "cell_type": "code",
   "execution_count": 2,
   "id": "a0e7c485",
   "metadata": {},
   "outputs": [],
   "source": [
    "#서울 동대문구 인구밀도 정제화\n",
    "\n",
    "df_people_dd = pd.read_csv(\"dongdaemun_people.csv\", skiprows=1, encoding=\"utf-8\")\n",
    "df_people_dd.drop(columns='동별(1)', axis=0, inplace=True)\n",
    "df_people_dd.columns = ['지역', '인구 (명)', '면적 (㎢)', '인구밀도 (명/㎢)']\n",
    "df_people_dd.loc[0] = ('서울동대문구', 359873, 14.22, 25315.00)"
   ]
  },
  {
   "cell_type": "code",
   "execution_count": 3,
   "id": "452b7110",
   "metadata": {},
   "outputs": [],
   "source": [
    "#충남 당진시 인구밀도 정제화\n",
    "\n",
    "df_people_dj = pd.read_csv(\"dangjin_people.csv\", skiprows=1, encoding=\"utf-8\")\n",
    "df_people_dj.columns = ['지역', '인구 (명)', '인구밀도 (명/㎢)', '면적 (㎢)']\n",
    "df_people_dj.loc[0] = ('충남당진시', 174079, 238.48, 705.53)"
   ]
  },
  {
   "cell_type": "code",
   "execution_count": 4,
   "id": "55735a23",
   "metadata": {},
   "outputs": [],
   "source": [
    "#동대문구, 당진시 인구밀도 merge\n",
    "\n",
    "df_people_merged = pd.concat([df_people_dd, df_people_dj], ignore_index=True)\n",
    "df_people_merged = df_people_merged.reset_index(drop=True)"
   ]
  },
  {
   "cell_type": "code",
   "execution_count": 5,
   "id": "2e31ca91",
   "metadata": {},
   "outputs": [
    {
     "data": {
      "text/html": [
       "<div>\n",
       "<style scoped>\n",
       "    .dataframe tbody tr th:only-of-type {\n",
       "        vertical-align: middle;\n",
       "    }\n",
       "\n",
       "    .dataframe tbody tr th {\n",
       "        vertical-align: top;\n",
       "    }\n",
       "\n",
       "    .dataframe thead th {\n",
       "        text-align: right;\n",
       "    }\n",
       "</style>\n",
       "<table border=\"1\" class=\"dataframe\">\n",
       "  <thead>\n",
       "    <tr style=\"text-align: right;\">\n",
       "      <th></th>\n",
       "      <th>지역</th>\n",
       "      <th>인구 (명)</th>\n",
       "      <th>면적 (㎢)</th>\n",
       "      <th>인구밀도 (명/㎢)</th>\n",
       "    </tr>\n",
       "  </thead>\n",
       "  <tbody>\n",
       "    <tr>\n",
       "      <th>0</th>\n",
       "      <td>서울동대문구</td>\n",
       "      <td>359873</td>\n",
       "      <td>14.22</td>\n",
       "      <td>25315.00</td>\n",
       "    </tr>\n",
       "    <tr>\n",
       "      <th>1</th>\n",
       "      <td>충남당진시</td>\n",
       "      <td>174079</td>\n",
       "      <td>705.53</td>\n",
       "      <td>238.48</td>\n",
       "    </tr>\n",
       "  </tbody>\n",
       "</table>\n",
       "</div>"
      ],
      "text/plain": [
       "       지역  인구 (명)  면적 (㎢)  인구밀도 (명/㎢)\n",
       "0  서울동대문구  359873   14.22    25315.00\n",
       "1   충남당진시  174079  705.53      238.48"
      ]
     },
     "execution_count": 5,
     "metadata": {},
     "output_type": "execute_result"
    }
   ],
   "source": [
    "df_people_merged"
   ]
  },
  {
   "cell_type": "code",
   "execution_count": 6,
   "id": "75892c1c",
   "metadata": {},
   "outputs": [],
   "source": [
    "#동대문구, 당진시 범죄건수 정제화\n",
    "\n",
    "df_crime = pd.read_csv(\"crime2023.csv\", encoding='cp949')\n",
    "df_crime = df_crime[['범죄중분류', '서울동대문구', '충남당진시']]\n",
    "\n",
    "df_crime=df_crime.transpose()\n",
    "df_crime = df_crime.rename(columns=df_crime.iloc[0])\n",
    "df_crime = df_crime.drop(df_crime.index[0])\n",
    "\n",
    "df_crime = df_crime[['살인기수', '강도', '강간', '절도범죄', '폭행']]\n",
    "df_crime = df_crime.reset_index()\n",
    "\n",
    "df_crime.columns = ['지역', '살인기수', '강도', '강간', '절도범죄', '폭행']\n",
    "\n",
    "df_crime_all = pd.DataFrame({'지역': ['서울동대문구', '충남당진시'],\n",
    "              '총범죄': [2159, 804]})\n",
    "\n",
    "df_crime = pd.merge(df_crime, df_crime_all, on='지역', how='inner')"
   ]
  },
  {
   "cell_type": "code",
   "execution_count": 7,
   "id": "da574965",
   "metadata": {},
   "outputs": [
    {
     "data": {
      "text/html": [
       "<div>\n",
       "<style scoped>\n",
       "    .dataframe tbody tr th:only-of-type {\n",
       "        vertical-align: middle;\n",
       "    }\n",
       "\n",
       "    .dataframe tbody tr th {\n",
       "        vertical-align: top;\n",
       "    }\n",
       "\n",
       "    .dataframe thead th {\n",
       "        text-align: right;\n",
       "    }\n",
       "</style>\n",
       "<table border=\"1\" class=\"dataframe\">\n",
       "  <thead>\n",
       "    <tr style=\"text-align: right;\">\n",
       "      <th></th>\n",
       "      <th>지역</th>\n",
       "      <th>살인기수</th>\n",
       "      <th>강도</th>\n",
       "      <th>강간</th>\n",
       "      <th>절도범죄</th>\n",
       "      <th>폭행</th>\n",
       "      <th>총범죄</th>\n",
       "    </tr>\n",
       "  </thead>\n",
       "  <tbody>\n",
       "    <tr>\n",
       "      <th>0</th>\n",
       "      <td>서울동대문구</td>\n",
       "      <td>2</td>\n",
       "      <td>4</td>\n",
       "      <td>36</td>\n",
       "      <td>1278</td>\n",
       "      <td>839</td>\n",
       "      <td>2159</td>\n",
       "    </tr>\n",
       "    <tr>\n",
       "      <th>1</th>\n",
       "      <td>충남당진시</td>\n",
       "      <td>2</td>\n",
       "      <td>1</td>\n",
       "      <td>18</td>\n",
       "      <td>445</td>\n",
       "      <td>338</td>\n",
       "      <td>804</td>\n",
       "    </tr>\n",
       "  </tbody>\n",
       "</table>\n",
       "</div>"
      ],
      "text/plain": [
       "       지역 살인기수 강도  강간  절도범죄   폭행   총범죄\n",
       "0  서울동대문구    2  4  36  1278  839  2159\n",
       "1   충남당진시    2  1  18   445  338   804"
      ]
     },
     "execution_count": 7,
     "metadata": {},
     "output_type": "execute_result"
    }
   ],
   "source": [
    "df_crime"
   ]
  },
  {
   "cell_type": "code",
   "execution_count": 8,
   "id": "2b55a3bd",
   "metadata": {},
   "outputs": [],
   "source": [
    "#인구밀도, 범죄건수 merge\n",
    "\n",
    "df_merged = pd.merge(df_people_merged, df_crime, on='지역', how='inner')"
   ]
  },
  {
   "cell_type": "code",
   "execution_count": 9,
   "id": "90504c96",
   "metadata": {},
   "outputs": [
    {
     "data": {
      "text/html": [
       "<div>\n",
       "<style scoped>\n",
       "    .dataframe tbody tr th:only-of-type {\n",
       "        vertical-align: middle;\n",
       "    }\n",
       "\n",
       "    .dataframe tbody tr th {\n",
       "        vertical-align: top;\n",
       "    }\n",
       "\n",
       "    .dataframe thead th {\n",
       "        text-align: right;\n",
       "    }\n",
       "</style>\n",
       "<table border=\"1\" class=\"dataframe\">\n",
       "  <thead>\n",
       "    <tr style=\"text-align: right;\">\n",
       "      <th></th>\n",
       "      <th>지역</th>\n",
       "      <th>인구 (명)</th>\n",
       "      <th>면적 (㎢)</th>\n",
       "      <th>인구밀도 (명/㎢)</th>\n",
       "      <th>살인기수</th>\n",
       "      <th>강도</th>\n",
       "      <th>강간</th>\n",
       "      <th>절도범죄</th>\n",
       "      <th>폭행</th>\n",
       "      <th>총범죄</th>\n",
       "    </tr>\n",
       "  </thead>\n",
       "  <tbody>\n",
       "    <tr>\n",
       "      <th>0</th>\n",
       "      <td>서울동대문구</td>\n",
       "      <td>359873</td>\n",
       "      <td>14.22</td>\n",
       "      <td>25315.00</td>\n",
       "      <td>2</td>\n",
       "      <td>4</td>\n",
       "      <td>36</td>\n",
       "      <td>1278</td>\n",
       "      <td>839</td>\n",
       "      <td>2159</td>\n",
       "    </tr>\n",
       "    <tr>\n",
       "      <th>1</th>\n",
       "      <td>충남당진시</td>\n",
       "      <td>174079</td>\n",
       "      <td>705.53</td>\n",
       "      <td>238.48</td>\n",
       "      <td>2</td>\n",
       "      <td>1</td>\n",
       "      <td>18</td>\n",
       "      <td>445</td>\n",
       "      <td>338</td>\n",
       "      <td>804</td>\n",
       "    </tr>\n",
       "  </tbody>\n",
       "</table>\n",
       "</div>"
      ],
      "text/plain": [
       "       지역  인구 (명)  면적 (㎢)  인구밀도 (명/㎢) 살인기수 강도  강간  절도범죄   폭행   총범죄\n",
       "0  서울동대문구  359873   14.22    25315.00    2  4  36  1278  839  2159\n",
       "1   충남당진시  174079  705.53      238.48    2  1  18   445  338   804"
      ]
     },
     "execution_count": 9,
     "metadata": {},
     "output_type": "execute_result"
    }
   ],
   "source": [
    "df_merged"
   ]
  },
  {
   "cell_type": "code",
   "execution_count": 10,
   "id": "2d1c9fb2",
   "metadata": {},
   "outputs": [],
   "source": [
    "#동대문 가로등 수 추출\n",
    "\n",
    "df_dd_lights = pd.read_csv(\"dongdaemun.csv\",  encoding = 'cp949')\n",
    "df_dd_lights = df_dd_lights.fillna(0)\n",
    "dd_lights = df_dd_lights['보행등'].sum()"
   ]
  },
  {
   "cell_type": "code",
   "execution_count": 11,
   "id": "ee1bfaac",
   "metadata": {},
   "outputs": [],
   "source": [
    "#당진시 가로등 수 추출출\n",
    "\n",
    "df_dj_lights = pd.read_csv(\"dangjin.csv\")\n",
    "df_dj_lights.columns = df_dj_lights.columns.str.strip()\n",
    "df_dj_lights = df_dj_lights.fillna(0)\n",
    "dj_lights = df_dj_lights['가로등(공원등미포)'].sum()"
   ]
  },
  {
   "cell_type": "code",
   "execution_count": 12,
   "id": "e0c5e05b",
   "metadata": {},
   "outputs": [
    {
     "name": "stdout",
     "output_type": "stream",
     "text": [
      "2939.0\n",
      "6836.0\n"
     ]
    }
   ],
   "source": [
    "print(dd_lights)\n",
    "print(dj_lights)"
   ]
  },
  {
   "cell_type": "code",
   "execution_count": 13,
   "id": "dd4f982e",
   "metadata": {},
   "outputs": [
    {
     "data": {
      "text/html": [
       "<div>\n",
       "<style scoped>\n",
       "    .dataframe tbody tr th:only-of-type {\n",
       "        vertical-align: middle;\n",
       "    }\n",
       "\n",
       "    .dataframe tbody tr th {\n",
       "        vertical-align: top;\n",
       "    }\n",
       "\n",
       "    .dataframe thead th {\n",
       "        text-align: right;\n",
       "    }\n",
       "</style>\n",
       "<table border=\"1\" class=\"dataframe\">\n",
       "  <thead>\n",
       "    <tr style=\"text-align: right;\">\n",
       "      <th></th>\n",
       "      <th>지역</th>\n",
       "      <th>가로등수</th>\n",
       "    </tr>\n",
       "  </thead>\n",
       "  <tbody>\n",
       "    <tr>\n",
       "      <th>0</th>\n",
       "      <td>서울동대문구</td>\n",
       "      <td>2939.0</td>\n",
       "    </tr>\n",
       "    <tr>\n",
       "      <th>1</th>\n",
       "      <td>충남당진시</td>\n",
       "      <td>6836.0</td>\n",
       "    </tr>\n",
       "  </tbody>\n",
       "</table>\n",
       "</div>"
      ],
      "text/plain": [
       "       지역    가로등수\n",
       "0  서울동대문구  2939.0\n",
       "1   충남당진시  6836.0"
      ]
     },
     "execution_count": 13,
     "metadata": {},
     "output_type": "execute_result"
    }
   ],
   "source": [
    "df_lights = pd.DataFrame({'지역': ['서울동대문구', '충남당진시'],\n",
    "                          '가로등수': [2939.0, 6836.0]})\n",
    "df_lights"
   ]
  },
  {
   "cell_type": "code",
   "execution_count": 14,
   "id": "f03e4a75",
   "metadata": {},
   "outputs": [
    {
     "data": {
      "text/html": [
       "<div>\n",
       "<style scoped>\n",
       "    .dataframe tbody tr th:only-of-type {\n",
       "        vertical-align: middle;\n",
       "    }\n",
       "\n",
       "    .dataframe tbody tr th {\n",
       "        vertical-align: top;\n",
       "    }\n",
       "\n",
       "    .dataframe thead th {\n",
       "        text-align: right;\n",
       "    }\n",
       "</style>\n",
       "<table border=\"1\" class=\"dataframe\">\n",
       "  <thead>\n",
       "    <tr style=\"text-align: right;\">\n",
       "      <th></th>\n",
       "      <th>지역</th>\n",
       "      <th>경찰관서 (개/㎢)</th>\n",
       "    </tr>\n",
       "  </thead>\n",
       "  <tbody>\n",
       "    <tr>\n",
       "      <th>0</th>\n",
       "      <td>서울동대문구</td>\n",
       "      <td>1.476793</td>\n",
       "    </tr>\n",
       "    <tr>\n",
       "      <th>1</th>\n",
       "      <td>충남당진시</td>\n",
       "      <td>0.021261</td>\n",
       "    </tr>\n",
       "  </tbody>\n",
       "</table>\n",
       "</div>"
      ],
      "text/plain": [
       "       지역  경찰관서 (개/㎢)\n",
       "0  서울동대문구    1.476793\n",
       "1   충남당진시    0.021261"
      ]
     },
     "execution_count": 14,
     "metadata": {},
     "output_type": "execute_result"
    }
   ],
   "source": [
    "#당진시 경찰시설 수 출처https://stat.kosis.kr/nsieu/view/tree.do?task=branchView&hOrg=705&id=705_001*MT_OTITLE\n",
    "#동대문구 경찰시설 수 출처 통계연보 https://www.ddm.go.kr/ddmmap/contents.do?key=1653\n",
    "#경찰관서 비율(개/㎢)\n",
    "\n",
    "df_police = pd.DataFrame({'지역': ['서울동대문구', '충남당진시'],\n",
    "                          '경찰관서 (개/㎢)': [21/14.22, 15/705.53]})\n",
    "\n",
    "df_police"
   ]
  },
  {
   "cell_type": "code",
   "execution_count": 15,
   "id": "02f756df",
   "metadata": {},
   "outputs": [
    {
     "data": {
      "text/html": [
       "<div>\n",
       "<style scoped>\n",
       "    .dataframe tbody tr th:only-of-type {\n",
       "        vertical-align: middle;\n",
       "    }\n",
       "\n",
       "    .dataframe tbody tr th {\n",
       "        vertical-align: top;\n",
       "    }\n",
       "\n",
       "    .dataframe thead th {\n",
       "        text-align: right;\n",
       "    }\n",
       "</style>\n",
       "<table border=\"1\" class=\"dataframe\">\n",
       "  <thead>\n",
       "    <tr style=\"text-align: right;\">\n",
       "      <th></th>\n",
       "      <th>지역</th>\n",
       "      <th>인구 (명)</th>\n",
       "      <th>면적 (㎢)</th>\n",
       "      <th>인구밀도 (명/㎢)</th>\n",
       "      <th>살인기수</th>\n",
       "      <th>강도</th>\n",
       "      <th>강간</th>\n",
       "      <th>절도범죄</th>\n",
       "      <th>폭행</th>\n",
       "      <th>총범죄</th>\n",
       "      <th>경찰관서 (개/㎢)</th>\n",
       "      <th>가로등수</th>\n",
       "    </tr>\n",
       "  </thead>\n",
       "  <tbody>\n",
       "    <tr>\n",
       "      <th>0</th>\n",
       "      <td>서울동대문구</td>\n",
       "      <td>359873.0</td>\n",
       "      <td>14.22</td>\n",
       "      <td>25315.00</td>\n",
       "      <td>2.0</td>\n",
       "      <td>4.0</td>\n",
       "      <td>36.0</td>\n",
       "      <td>1278.0</td>\n",
       "      <td>839.0</td>\n",
       "      <td>2159.0</td>\n",
       "      <td>1.476793</td>\n",
       "      <td>2939.0</td>\n",
       "    </tr>\n",
       "    <tr>\n",
       "      <th>1</th>\n",
       "      <td>충남당진시</td>\n",
       "      <td>174079.0</td>\n",
       "      <td>705.53</td>\n",
       "      <td>238.48</td>\n",
       "      <td>2.0</td>\n",
       "      <td>1.0</td>\n",
       "      <td>18.0</td>\n",
       "      <td>445.0</td>\n",
       "      <td>338.0</td>\n",
       "      <td>804.0</td>\n",
       "      <td>0.021261</td>\n",
       "      <td>6836.0</td>\n",
       "    </tr>\n",
       "  </tbody>\n",
       "</table>\n",
       "</div>"
      ],
      "text/plain": [
       "       지역    인구 (명)  면적 (㎢)  인구밀도 (명/㎢)  살인기수   강도    강간    절도범죄     폭행  \\\n",
       "0  서울동대문구  359873.0   14.22    25315.00   2.0  4.0  36.0  1278.0  839.0   \n",
       "1   충남당진시  174079.0  705.53      238.48   2.0  1.0  18.0   445.0  338.0   \n",
       "\n",
       "      총범죄  경찰관서 (개/㎢)    가로등수  \n",
       "0  2159.0    1.476793  2939.0  \n",
       "1   804.0    0.021261  6836.0  "
      ]
     },
     "execution_count": 15,
     "metadata": {},
     "output_type": "execute_result"
    }
   ],
   "source": [
    "#merge 및 실수형으로 변경\n",
    "\n",
    "df_merged = pd.merge(df_merged, df_police, on='지역', how='inner')\n",
    "df_merged = pd.merge(df_merged, df_lights, on= '지역', how= 'inner')\n",
    "\n",
    "for col in ['인구 (명)', '면적 (㎢)', '인구밀도 (명/㎢)', '살인기수', '강도', '강간', '절도범죄', '폭행', '총범죄', '경찰관서 (개/㎢)', '가로등수']:\n",
    "    df_merged[col] = df_merged[col].astype(float)\n",
    "\n",
    "df_merged"
   ]
  },
  {
   "cell_type": "code",
   "execution_count": 16,
   "id": "7bc676b7",
   "metadata": {},
   "outputs": [
    {
     "name": "stdout",
     "output_type": "stream",
     "text": [
      "절편:  847.4674133955883\n",
      "회귀계수:  [ 5.27604197e-02 -8.19919812e-03  3.06240710e-06]\n"
     ]
    }
   ],
   "source": [
    "#종속변수: 총범죄건수\n",
    "\n",
    "# 독립 변수와 종속 변수 정의\n",
    "\n",
    "x_data = df_merged[['인구밀도 (명/㎢)', '가로등수', '경찰관서 (개/㎢)']]\n",
    "y_all_crime = df_merged['총범죄']\n",
    "\n",
    "# 다중 선형 회귀 모델 생성 및 학습\n",
    "\n",
    "reg_all_crime = linear_model.LinearRegression()\n",
    "reg_all_crime.fit(x_data, y_all_crime)\n",
    "\n",
    "print('절편: ', reg_all_crime.intercept_)\n",
    "print('회귀계수: ', reg_all_crime.coef_)"
   ]
  },
  {
   "cell_type": "code",
   "execution_count": 17,
   "id": "322db8f2",
   "metadata": {},
   "outputs": [
    {
     "name": "stdout",
     "output_type": "stream",
     "text": [
      "절편: \n",
      "-살인 2.0\n",
      "-강도 1.0962378156359887\n",
      "-강간 18.57742689381593\n",
      "-절도 471.72203347492604\n",
      "-폭행 354.0717152112101\n",
      "회귀계수:  [ 5.27604197e-02 -8.19919812e-03  3.06240710e-06]\n",
      "-살인 [0. 0. 0.]\n",
      "-강도 [ 1.16812737e-04 -1.81532062e-05  6.78023712e-09]\n",
      "-강간 [ 7.00876424e-04 -1.08919237e-04  4.06814227e-08]\n",
      "-절도 [ 3.24350034e-02 -5.04054025e-03  1.88264584e-06]\n",
      "-폭행 [ 1.95077271e-02 -3.03158543e-03  1.13229960e-06]\n"
     ]
    }
   ],
   "source": [
    "#범죄 종류 별\n",
    "\n",
    "# 독립 변수 정의\n",
    "\n",
    "y_muder = df_merged['살인기수']\n",
    "y_robbery = df_merged['강도']\n",
    "y_rape = df_merged['강간']\n",
    "y_thief = df_merged['절도범죄']\n",
    "y_battery = df_merged['폭행']\n",
    "\n",
    "# 다중 선형 회귀 모델 생성 및 학습\n",
    "\n",
    "reg_muder = linear_model.LinearRegression()\n",
    "reg_muder.fit(x_data, y_muder)\n",
    "\n",
    "reg_robbery = linear_model.LinearRegression()\n",
    "reg_robbery.fit(x_data, y_robbery)\n",
    "\n",
    "reg_rape = linear_model.LinearRegression()\n",
    "reg_rape.fit(x_data, y_rape)\n",
    "\n",
    "reg_thief = linear_model.LinearRegression()\n",
    "reg_thief.fit(x_data, y_thief)\n",
    "\n",
    "reg_battery = linear_model.LinearRegression()\n",
    "reg_battery.fit(x_data, y_battery)\n",
    "\n",
    "print('절편: ')\n",
    "\n",
    "print('-살인', reg_muder.intercept_)\n",
    "print('-강도', reg_robbery.intercept_)\n",
    "print('-강간', reg_rape.intercept_)\n",
    "print('-절도', reg_thief.intercept_)\n",
    "print('-폭행', reg_battery.intercept_)\n",
    "\n",
    "print('회귀계수: ', reg_all_crime.coef_)\n",
    "\n",
    "print('-살인', reg_muder.coef_)\n",
    "print('-강도', reg_robbery.coef_)\n",
    "print('-강간', reg_rape.coef_)\n",
    "print('-절도', reg_thief.coef_)\n",
    "print('-폭행', reg_battery.coef_)"
   ]
  },
  {
   "cell_type": "code",
   "execution_count": 18,
   "id": "d1753555",
   "metadata": {},
   "outputs": [
    {
     "data": {
      "text/html": [
       "<div>\n",
       "<style scoped>\n",
       "    .dataframe tbody tr th:only-of-type {\n",
       "        vertical-align: middle;\n",
       "    }\n",
       "\n",
       "    .dataframe tbody tr th {\n",
       "        vertical-align: top;\n",
       "    }\n",
       "\n",
       "    .dataframe thead th {\n",
       "        text-align: right;\n",
       "    }\n",
       "</style>\n",
       "<table border=\"1\" class=\"dataframe\">\n",
       "  <thead>\n",
       "    <tr style=\"text-align: right;\">\n",
       "      <th></th>\n",
       "      <th>절편</th>\n",
       "      <th>인구밀도 (명/㎢)</th>\n",
       "      <th>가로등수</th>\n",
       "      <th>경찰관서 (개/㎢)</th>\n",
       "    </tr>\n",
       "  </thead>\n",
       "  <tbody>\n",
       "    <tr>\n",
       "      <th>살인</th>\n",
       "      <td>2.000000</td>\n",
       "      <td>0.000000</td>\n",
       "      <td>0.000000</td>\n",
       "      <td>0.000000e+00</td>\n",
       "    </tr>\n",
       "    <tr>\n",
       "      <th>강도</th>\n",
       "      <td>1.096238</td>\n",
       "      <td>0.000117</td>\n",
       "      <td>-0.000018</td>\n",
       "      <td>6.780237e-09</td>\n",
       "    </tr>\n",
       "    <tr>\n",
       "      <th>강간</th>\n",
       "      <td>18.577427</td>\n",
       "      <td>0.000701</td>\n",
       "      <td>-0.000109</td>\n",
       "      <td>4.068142e-08</td>\n",
       "    </tr>\n",
       "    <tr>\n",
       "      <th>절도</th>\n",
       "      <td>471.722033</td>\n",
       "      <td>0.032435</td>\n",
       "      <td>-0.005041</td>\n",
       "      <td>1.882646e-06</td>\n",
       "    </tr>\n",
       "    <tr>\n",
       "      <th>폭행</th>\n",
       "      <td>354.071715</td>\n",
       "      <td>0.019508</td>\n",
       "      <td>-0.003032</td>\n",
       "      <td>1.132300e-06</td>\n",
       "    </tr>\n",
       "    <tr>\n",
       "      <th>총범죄</th>\n",
       "      <td>847.467413</td>\n",
       "      <td>0.052760</td>\n",
       "      <td>-0.008199</td>\n",
       "      <td>3.062407e-06</td>\n",
       "    </tr>\n",
       "  </tbody>\n",
       "</table>\n",
       "</div>"
      ],
      "text/plain": [
       "             절편  인구밀도 (명/㎢)      가로등수    경찰관서 (개/㎢)\n",
       "살인     2.000000    0.000000  0.000000  0.000000e+00\n",
       "강도     1.096238    0.000117 -0.000018  6.780237e-09\n",
       "강간    18.577427    0.000701 -0.000109  4.068142e-08\n",
       "절도   471.722033    0.032435 -0.005041  1.882646e-06\n",
       "폭행   354.071715    0.019508 -0.003032  1.132300e-06\n",
       "총범죄  847.467413    0.052760 -0.008199  3.062407e-06"
      ]
     },
     "execution_count": 18,
     "metadata": {},
     "output_type": "execute_result"
    }
   ],
   "source": [
    "#결과 정리\n",
    "\n",
    "df = pd.DataFrame({'살인': reg_muder.coef_,\n",
    "                   '강도': reg_robbery.coef_,\n",
    "                   '강간': reg_rape.coef_,\n",
    "                   '절도': reg_thief.coef_,\n",
    "                   '폭행': reg_battery.coef_,\n",
    "                   '총범죄': reg_all_crime.coef_})\n",
    "\n",
    "df_df = pd.DataFrame({'살인': [reg_muder.intercept_],\n",
    "                   '강도': [reg_robbery.intercept_],\n",
    "                   '강간': [reg_rape.intercept_],\n",
    "                   '절도': [reg_thief.intercept_],\n",
    "                   '폭행': [reg_battery.intercept_],\n",
    "                   '총범죄': [reg_all_crime.intercept_]})\n",
    "\n",
    "df = pd.concat([df_df, df])\n",
    "\n",
    "df = df.transpose()\n",
    "df.columns = ['절편', '인구밀도 (명/㎢)', '가로등수', '경찰관서 (개/㎢)']\n",
    "\n",
    "\n",
    "#다만 경찰관서에 관해서는 인과관계가 반대일 수 있음\n",
    "df"
   ]
  },
  {
   "cell_type": "markdown",
   "id": "1a53b1d0",
   "metadata": {},
   "source": [
    "전체적으로 가로등 수와 범죄 발생율은 반비례하는 경향이 있으며 경찰관서에 경우 비례하나 범죄 다수 발생 지역에 집중적으로 세워지는 등, 인과관계가 반대일 경우를 고려해보아야 할 것 같다.\n",
    "\n",
    "살인의 경우, 건수가 2개에 동대문구, 당진시 두 곳에서 같은 값이기에 적절한 결과를 낼 수 없었다."
   ]
  }
 ],
 "metadata": {
  "kernelspec": {
   "display_name": "base",
   "language": "python",
   "name": "python3"
  },
  "language_info": {
   "codemirror_mode": {
    "name": "ipython",
    "version": 3
   },
   "file_extension": ".py",
   "mimetype": "text/x-python",
   "name": "python",
   "nbconvert_exporter": "python",
   "pygments_lexer": "ipython3",
   "version": "3.12.7"
  }
 },
 "nbformat": 4,
 "nbformat_minor": 5
}
