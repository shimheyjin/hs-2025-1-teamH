{
 "cells": [
  {
   "cell_type": "code",
   "execution_count": 51,
   "id": "1239d55b",
   "metadata": {},
   "outputs": [],
   "source": [
    "#import\n",
    "\n",
    "import pandas as pd\n",
    "from sklearn import linear_model"
   ]
  },
  {
   "cell_type": "code",
   "execution_count": 52,
   "id": "a0e7c485",
   "metadata": {},
   "outputs": [],
   "source": [
    "#서울 동대문구 인구밀도 정제화\n",
    "\n",
    "df_people_dd = pd.read_csv(\"dongdaemun_people.csv\", skiprows=1, encoding=\"utf-8\")\n",
    "df_people_dd.drop(columns='동별(1)', axis=0, inplace=True)\n",
    "df_people_dd.columns = ['지역', '인구 (명)', '면적 (㎢)', '인구밀도 (명/㎢)']\n",
    "df_people_dd.loc[0] = ('서울동대문구', 359873, 14.22, 25315.00)"
   ]
  },
  {
   "cell_type": "code",
   "execution_count": 53,
   "id": "452b7110",
   "metadata": {},
   "outputs": [],
   "source": [
    "#충남 당진시 인구밀도 정제화\n",
    "\n",
    "df_people_dj = pd.read_csv(\"dangjin_people.csv\", skiprows=1, encoding=\"utf-8\")\n",
    "df_people_dj.columns = ['지역', '인구 (명)', '인구밀도 (명/㎢)', '면적 (㎢)']\n",
    "df_people_dj.loc[0] = ('충남당진시', 174079, 238.48, 705.53)"
   ]
  },
  {
   "cell_type": "code",
   "execution_count": 54,
   "id": "55735a23",
   "metadata": {},
   "outputs": [],
   "source": [
    "#동대문구, 당진시 인구밀도 merge\n",
    "\n",
    "df_people_merged = pd.concat([df_people_dd, df_people_dj], ignore_index=True)\n",
    "df_people_merged = df_people_merged.reset_index(drop=True)"
   ]
  },
  {
   "cell_type": "code",
   "execution_count": 55,
   "id": "2e31ca91",
   "metadata": {},
   "outputs": [
    {
     "data": {
      "text/html": [
       "<div>\n",
       "<style scoped>\n",
       "    .dataframe tbody tr th:only-of-type {\n",
       "        vertical-align: middle;\n",
       "    }\n",
       "\n",
       "    .dataframe tbody tr th {\n",
       "        vertical-align: top;\n",
       "    }\n",
       "\n",
       "    .dataframe thead th {\n",
       "        text-align: right;\n",
       "    }\n",
       "</style>\n",
       "<table border=\"1\" class=\"dataframe\">\n",
       "  <thead>\n",
       "    <tr style=\"text-align: right;\">\n",
       "      <th></th>\n",
       "      <th>지역</th>\n",
       "      <th>인구 (명)</th>\n",
       "      <th>면적 (㎢)</th>\n",
       "      <th>인구밀도 (명/㎢)</th>\n",
       "    </tr>\n",
       "  </thead>\n",
       "  <tbody>\n",
       "    <tr>\n",
       "      <th>0</th>\n",
       "      <td>서울동대문구</td>\n",
       "      <td>359873</td>\n",
       "      <td>14.22</td>\n",
       "      <td>25315.00</td>\n",
       "    </tr>\n",
       "    <tr>\n",
       "      <th>1</th>\n",
       "      <td>충남당진시</td>\n",
       "      <td>174079</td>\n",
       "      <td>705.53</td>\n",
       "      <td>238.48</td>\n",
       "    </tr>\n",
       "  </tbody>\n",
       "</table>\n",
       "</div>"
      ],
      "text/plain": [
       "       지역  인구 (명)  면적 (㎢)  인구밀도 (명/㎢)\n",
       "0  서울동대문구  359873   14.22    25315.00\n",
       "1   충남당진시  174079  705.53      238.48"
      ]
     },
     "execution_count": 55,
     "metadata": {},
     "output_type": "execute_result"
    }
   ],
   "source": [
    "df_people_merged"
   ]
  },
  {
   "cell_type": "code",
   "execution_count": 56,
   "id": "75892c1c",
   "metadata": {},
   "outputs": [],
   "source": [
    "#동대문구, 당진시 범죄건수 정제화\n",
    "\n",
    "df_crime = pd.read_csv(\"crime2023.csv\", encoding='cp949')\n",
    "df_crime = df_crime[['범죄중분류', '서울동대문구', '충남당진시']]\n",
    "\n",
    "df_crime=df_crime.transpose()\n",
    "df_crime = df_crime.rename(columns=df_crime.iloc[0])\n",
    "df_crime = df_crime.drop(df_crime.index[0])\n",
    "\n",
    "df_crime = df_crime[['살인기수', '강도', '강간', '절도범죄', '폭행']]\n",
    "df_crime = df_crime.reset_index()\n",
    "\n",
    "df_crime.columns = ['지역', '살인기수', '강도', '강간', '절도범죄', '폭행']\n",
    "\n",
    "df_crime_all = pd.DataFrame({'지역': ['서울동대문구', '충남당진시'],\n",
    "              '총범죄': [2159, 804]})\n",
    "\n",
    "df_crime = pd.merge(df_crime, df_crime_all, on='지역', how='inner')"
   ]
  },
  {
   "cell_type": "code",
   "execution_count": 57,
   "id": "da574965",
   "metadata": {},
   "outputs": [
    {
     "data": {
      "text/html": [
       "<div>\n",
       "<style scoped>\n",
       "    .dataframe tbody tr th:only-of-type {\n",
       "        vertical-align: middle;\n",
       "    }\n",
       "\n",
       "    .dataframe tbody tr th {\n",
       "        vertical-align: top;\n",
       "    }\n",
       "\n",
       "    .dataframe thead th {\n",
       "        text-align: right;\n",
       "    }\n",
       "</style>\n",
       "<table border=\"1\" class=\"dataframe\">\n",
       "  <thead>\n",
       "    <tr style=\"text-align: right;\">\n",
       "      <th></th>\n",
       "      <th>지역</th>\n",
       "      <th>살인기수</th>\n",
       "      <th>강도</th>\n",
       "      <th>강간</th>\n",
       "      <th>절도범죄</th>\n",
       "      <th>폭행</th>\n",
       "      <th>총범죄</th>\n",
       "    </tr>\n",
       "  </thead>\n",
       "  <tbody>\n",
       "    <tr>\n",
       "      <th>0</th>\n",
       "      <td>서울동대문구</td>\n",
       "      <td>2</td>\n",
       "      <td>4</td>\n",
       "      <td>36</td>\n",
       "      <td>1278</td>\n",
       "      <td>839</td>\n",
       "      <td>2159</td>\n",
       "    </tr>\n",
       "    <tr>\n",
       "      <th>1</th>\n",
       "      <td>충남당진시</td>\n",
       "      <td>2</td>\n",
       "      <td>1</td>\n",
       "      <td>18</td>\n",
       "      <td>445</td>\n",
       "      <td>338</td>\n",
       "      <td>804</td>\n",
       "    </tr>\n",
       "  </tbody>\n",
       "</table>\n",
       "</div>"
      ],
      "text/plain": [
       "       지역 살인기수 강도  강간  절도범죄   폭행   총범죄\n",
       "0  서울동대문구    2  4  36  1278  839  2159\n",
       "1   충남당진시    2  1  18   445  338   804"
      ]
     },
     "execution_count": 57,
     "metadata": {},
     "output_type": "execute_result"
    }
   ],
   "source": [
    "df_crime"
   ]
  },
  {
   "cell_type": "code",
   "execution_count": 58,
   "id": "2b55a3bd",
   "metadata": {},
   "outputs": [],
   "source": [
    "#인구밀도, 범죄건수 merge\n",
    "\n",
    "df_merged = pd.merge(df_people_merged, df_crime, on='지역', how='inner')"
   ]
  },
  {
   "cell_type": "code",
   "execution_count": 59,
   "id": "90504c96",
   "metadata": {},
   "outputs": [
    {
     "data": {
      "text/html": [
       "<div>\n",
       "<style scoped>\n",
       "    .dataframe tbody tr th:only-of-type {\n",
       "        vertical-align: middle;\n",
       "    }\n",
       "\n",
       "    .dataframe tbody tr th {\n",
       "        vertical-align: top;\n",
       "    }\n",
       "\n",
       "    .dataframe thead th {\n",
       "        text-align: right;\n",
       "    }\n",
       "</style>\n",
       "<table border=\"1\" class=\"dataframe\">\n",
       "  <thead>\n",
       "    <tr style=\"text-align: right;\">\n",
       "      <th></th>\n",
       "      <th>지역</th>\n",
       "      <th>인구 (명)</th>\n",
       "      <th>면적 (㎢)</th>\n",
       "      <th>인구밀도 (명/㎢)</th>\n",
       "      <th>살인기수</th>\n",
       "      <th>강도</th>\n",
       "      <th>강간</th>\n",
       "      <th>절도범죄</th>\n",
       "      <th>폭행</th>\n",
       "      <th>총범죄</th>\n",
       "    </tr>\n",
       "  </thead>\n",
       "  <tbody>\n",
       "    <tr>\n",
       "      <th>0</th>\n",
       "      <td>서울동대문구</td>\n",
       "      <td>359873</td>\n",
       "      <td>14.22</td>\n",
       "      <td>25315.00</td>\n",
       "      <td>2</td>\n",
       "      <td>4</td>\n",
       "      <td>36</td>\n",
       "      <td>1278</td>\n",
       "      <td>839</td>\n",
       "      <td>2159</td>\n",
       "    </tr>\n",
       "    <tr>\n",
       "      <th>1</th>\n",
       "      <td>충남당진시</td>\n",
       "      <td>174079</td>\n",
       "      <td>705.53</td>\n",
       "      <td>238.48</td>\n",
       "      <td>2</td>\n",
       "      <td>1</td>\n",
       "      <td>18</td>\n",
       "      <td>445</td>\n",
       "      <td>338</td>\n",
       "      <td>804</td>\n",
       "    </tr>\n",
       "  </tbody>\n",
       "</table>\n",
       "</div>"
      ],
      "text/plain": [
       "       지역  인구 (명)  면적 (㎢)  인구밀도 (명/㎢) 살인기수 강도  강간  절도범죄   폭행   총범죄\n",
       "0  서울동대문구  359873   14.22    25315.00    2  4  36  1278  839  2159\n",
       "1   충남당진시  174079  705.53      238.48    2  1  18   445  338   804"
      ]
     },
     "execution_count": 59,
     "metadata": {},
     "output_type": "execute_result"
    }
   ],
   "source": [
    "df_merged"
   ]
  },
  {
   "cell_type": "code",
   "execution_count": 60,
   "id": "2d1c9fb2",
   "metadata": {},
   "outputs": [],
   "source": [
    "#동대문 가로등 수 추출\n",
    "\n",
    "df_dd_lights = pd.read_csv(\"dongdaemun.csv\",  encoding = 'cp949')\n",
    "df_dd_lights = df_dd_lights.fillna(0)\n",
    "dd_lights = df_dd_lights['보행등'].sum()"
   ]
  },
  {
   "cell_type": "code",
   "execution_count": 61,
   "id": "ee1bfaac",
   "metadata": {},
   "outputs": [],
   "source": [
    "#당진시 가로등 수 추출출\n",
    "\n",
    "df_dj_lights = pd.read_csv(\"dangjin.csv\")\n",
    "df_dj_lights.columns = df_dj_lights.columns.str.strip()\n",
    "df_dj_lights = df_dj_lights.fillna(0)\n",
    "dj_lights = df_dj_lights['가로등(공원등미포)'].sum()"
   ]
  },
  {
   "cell_type": "code",
   "execution_count": 62,
   "id": "e0c5e05b",
   "metadata": {},
   "outputs": [
    {
     "name": "stdout",
     "output_type": "stream",
     "text": [
      "2939.0\n",
      "6836.0\n"
     ]
    }
   ],
   "source": [
    "print(dd_lights)\n",
    "print(dj_lights)"
   ]
  },
  {
   "cell_type": "code",
   "execution_count": 63,
   "id": "dd4f982e",
   "metadata": {},
   "outputs": [
    {
     "data": {
      "text/html": [
       "<div>\n",
       "<style scoped>\n",
       "    .dataframe tbody tr th:only-of-type {\n",
       "        vertical-align: middle;\n",
       "    }\n",
       "\n",
       "    .dataframe tbody tr th {\n",
       "        vertical-align: top;\n",
       "    }\n",
       "\n",
       "    .dataframe thead th {\n",
       "        text-align: right;\n",
       "    }\n",
       "</style>\n",
       "<table border=\"1\" class=\"dataframe\">\n",
       "  <thead>\n",
       "    <tr style=\"text-align: right;\">\n",
       "      <th></th>\n",
       "      <th>지역</th>\n",
       "      <th>가로등수</th>\n",
       "    </tr>\n",
       "  </thead>\n",
       "  <tbody>\n",
       "    <tr>\n",
       "      <th>0</th>\n",
       "      <td>서울동대문구</td>\n",
       "      <td>2939.0</td>\n",
       "    </tr>\n",
       "    <tr>\n",
       "      <th>1</th>\n",
       "      <td>충남당진시</td>\n",
       "      <td>6836.0</td>\n",
       "    </tr>\n",
       "  </tbody>\n",
       "</table>\n",
       "</div>"
      ],
      "text/plain": [
       "       지역    가로등수\n",
       "0  서울동대문구  2939.0\n",
       "1   충남당진시  6836.0"
      ]
     },
     "execution_count": 63,
     "metadata": {},
     "output_type": "execute_result"
    }
   ],
   "source": [
    "df_lights = pd.DataFrame({'지역': ['서울동대문구', '충남당진시'],\n",
    "                          '가로등수': [2939.0, 6836.0]})\n",
    "df_lights"
   ]
  },
  {
   "cell_type": "code",
   "execution_count": 64,
   "id": "02f756df",
   "metadata": {},
   "outputs": [
    {
     "data": {
      "text/html": [
       "<div>\n",
       "<style scoped>\n",
       "    .dataframe tbody tr th:only-of-type {\n",
       "        vertical-align: middle;\n",
       "    }\n",
       "\n",
       "    .dataframe tbody tr th {\n",
       "        vertical-align: top;\n",
       "    }\n",
       "\n",
       "    .dataframe thead th {\n",
       "        text-align: right;\n",
       "    }\n",
       "</style>\n",
       "<table border=\"1\" class=\"dataframe\">\n",
       "  <thead>\n",
       "    <tr style=\"text-align: right;\">\n",
       "      <th></th>\n",
       "      <th>지역</th>\n",
       "      <th>인구 (명)</th>\n",
       "      <th>면적 (㎢)</th>\n",
       "      <th>인구밀도 (명/㎢)</th>\n",
       "      <th>살인기수</th>\n",
       "      <th>강도</th>\n",
       "      <th>강간</th>\n",
       "      <th>절도범죄</th>\n",
       "      <th>폭행</th>\n",
       "      <th>총범죄</th>\n",
       "      <th>가로등수</th>\n",
       "    </tr>\n",
       "  </thead>\n",
       "  <tbody>\n",
       "    <tr>\n",
       "      <th>0</th>\n",
       "      <td>서울동대문구</td>\n",
       "      <td>359873</td>\n",
       "      <td>14.22</td>\n",
       "      <td>25315.00</td>\n",
       "      <td>2</td>\n",
       "      <td>4</td>\n",
       "      <td>36</td>\n",
       "      <td>1278</td>\n",
       "      <td>839</td>\n",
       "      <td>2159</td>\n",
       "      <td>2939.0</td>\n",
       "    </tr>\n",
       "    <tr>\n",
       "      <th>1</th>\n",
       "      <td>충남당진시</td>\n",
       "      <td>174079</td>\n",
       "      <td>705.53</td>\n",
       "      <td>238.48</td>\n",
       "      <td>2</td>\n",
       "      <td>1</td>\n",
       "      <td>18</td>\n",
       "      <td>445</td>\n",
       "      <td>338</td>\n",
       "      <td>804</td>\n",
       "      <td>6836.0</td>\n",
       "    </tr>\n",
       "  </tbody>\n",
       "</table>\n",
       "</div>"
      ],
      "text/plain": [
       "       지역  인구 (명)  면적 (㎢)  인구밀도 (명/㎢) 살인기수 강도  강간  절도범죄   폭행   총범죄    가로등수\n",
       "0  서울동대문구  359873   14.22    25315.00    2  4  36  1278  839  2159  2939.0\n",
       "1   충남당진시  174079  705.53      238.48    2  1  18   445  338   804  6836.0"
      ]
     },
     "execution_count": 64,
     "metadata": {},
     "output_type": "execute_result"
    }
   ],
   "source": [
    "df_merged = pd.merge(df_merged, df_lights, on= '지역', how= 'inner')\n",
    "df_merged"
   ]
  },
  {
   "cell_type": "code",
   "execution_count": null,
   "id": "7bc676b7",
   "metadata": {},
   "outputs": [
    {
     "name": "stdout",
     "output_type": "stream",
     "text": [
      "절편:  847.4674136036881\n",
      "회귀계수:  [ 0.05276042 -0.0081992 ]\n"
     ]
    }
   ],
   "source": [
    "#종속변수: 총범죄건수\n",
    "\n",
    "# 독립 변수와 종속 변수 정의\n",
    "\n",
    "x_data = df_merged[['인구밀도 (명/㎢)', '가로등수']]\n",
    "y_all_crime = df_merged['총범죄']\n",
    "\n",
    "# 다중 선형 회귀 모델 생성 및 학습\n",
    "\n",
    "reg_all_crime = linear_model.LinearRegression()\n",
    "reg_all_crime.fit(x_data, y_all_crime)\n",
    "\n",
    "print('절편: ', reg_all_crime.intercept_)\n",
    "print('회귀계수: ', reg_all_crime.coef_)"
   ]
  },
  {
   "cell_type": "code",
   "execution_count": 66,
   "id": "322db8f2",
   "metadata": {},
   "outputs": [
    {
     "name": "stdout",
     "output_type": "stream",
     "text": [
      "절편: \n",
      "-살인 2.0\n",
      "-강도 1.096237816096726\n",
      "-강간 18.577426896580356\n",
      "-절도 471.7220336028577\n",
      "-폭행 354.07171528815326\n",
      "회귀계수:  [ 0.05276042 -0.0081992 ]\n",
      "-살인 [0. 0.]\n",
      "-강도 [ 1.16812738e-04 -1.81532062e-05]\n",
      "-강간 [ 0.00070088 -0.00010892]\n",
      "-절도 [ 0.032435   -0.00504054]\n",
      "-폭행 [ 0.01950773 -0.00303159]\n"
     ]
    }
   ],
   "source": [
    "#범죄 종류 별\n",
    "\n",
    "# 독립 변수 정의\n",
    "\n",
    "y_muder = df_merged['살인기수']\n",
    "y_robbery = df_merged['강도']\n",
    "y_rape = df_merged['강간']\n",
    "y_thief = df_merged['절도범죄']\n",
    "y_battery = df_merged['폭행']\n",
    "\n",
    "# 다중 선형 회귀 모델 생성 및 학습\n",
    "\n",
    "reg_muder = linear_model.LinearRegression()\n",
    "reg_muder.fit(x_data, y_muder)\n",
    "\n",
    "reg_robbery = linear_model.LinearRegression()\n",
    "reg_robbery.fit(x_data, y_robbery)\n",
    "\n",
    "reg_rape = linear_model.LinearRegression()\n",
    "reg_rape.fit(x_data, y_rape)\n",
    "\n",
    "reg_thief = linear_model.LinearRegression()\n",
    "reg_thief.fit(x_data, y_thief)\n",
    "\n",
    "reg_battery = linear_model.LinearRegression()\n",
    "reg_battery.fit(x_data, y_battery)\n",
    "\n",
    "print('절편: ')\n",
    "\n",
    "print('-살인', reg_muder.intercept_)\n",
    "print('-강도', reg_robbery.intercept_)\n",
    "print('-강간', reg_rape.intercept_)\n",
    "print('-절도', reg_thief.intercept_)\n",
    "print('-폭행', reg_battery.intercept_)\n",
    "\n",
    "print('회귀계수: ', reg_all_crime.coef_)\n",
    "\n",
    "print('-살인', reg_muder.coef_)\n",
    "print('-강도', reg_robbery.coef_)\n",
    "print('-강간', reg_rape.coef_)\n",
    "print('-절도', reg_thief.coef_)\n",
    "print('-폭행', reg_battery.coef_)"
   ]
  },
  {
   "cell_type": "code",
   "execution_count": 68,
   "id": "d1753555",
   "metadata": {},
   "outputs": [
    {
     "data": {
      "text/html": [
       "<div>\n",
       "<style scoped>\n",
       "    .dataframe tbody tr th:only-of-type {\n",
       "        vertical-align: middle;\n",
       "    }\n",
       "\n",
       "    .dataframe tbody tr th {\n",
       "        vertical-align: top;\n",
       "    }\n",
       "\n",
       "    .dataframe thead th {\n",
       "        text-align: right;\n",
       "    }\n",
       "</style>\n",
       "<table border=\"1\" class=\"dataframe\">\n",
       "  <thead>\n",
       "    <tr style=\"text-align: right;\">\n",
       "      <th></th>\n",
       "      <th>절편</th>\n",
       "      <th>인구밀도 (명/㎢)</th>\n",
       "      <th>가로등수</th>\n",
       "    </tr>\n",
       "  </thead>\n",
       "  <tbody>\n",
       "    <tr>\n",
       "      <th>살인</th>\n",
       "      <td>2.000000</td>\n",
       "      <td>0.000000</td>\n",
       "      <td>0.000000</td>\n",
       "    </tr>\n",
       "    <tr>\n",
       "      <th>강도</th>\n",
       "      <td>1.096238</td>\n",
       "      <td>0.000117</td>\n",
       "      <td>-0.000018</td>\n",
       "    </tr>\n",
       "    <tr>\n",
       "      <th>강간</th>\n",
       "      <td>18.577427</td>\n",
       "      <td>0.000701</td>\n",
       "      <td>-0.000109</td>\n",
       "    </tr>\n",
       "    <tr>\n",
       "      <th>절도</th>\n",
       "      <td>471.722034</td>\n",
       "      <td>0.032435</td>\n",
       "      <td>-0.005041</td>\n",
       "    </tr>\n",
       "    <tr>\n",
       "      <th>폭행</th>\n",
       "      <td>354.071715</td>\n",
       "      <td>0.019508</td>\n",
       "      <td>-0.003032</td>\n",
       "    </tr>\n",
       "    <tr>\n",
       "      <th>총범죄</th>\n",
       "      <td>847.467414</td>\n",
       "      <td>0.052760</td>\n",
       "      <td>-0.008199</td>\n",
       "    </tr>\n",
       "  </tbody>\n",
       "</table>\n",
       "</div>"
      ],
      "text/plain": [
       "             절편  인구밀도 (명/㎢)      가로등수\n",
       "살인     2.000000    0.000000  0.000000\n",
       "강도     1.096238    0.000117 -0.000018\n",
       "강간    18.577427    0.000701 -0.000109\n",
       "절도   471.722034    0.032435 -0.005041\n",
       "폭행   354.071715    0.019508 -0.003032\n",
       "총범죄  847.467414    0.052760 -0.008199"
      ]
     },
     "execution_count": 68,
     "metadata": {},
     "output_type": "execute_result"
    }
   ],
   "source": [
    "#결과 정리\n",
    "\n",
    "df = pd.DataFrame({'살인': reg_muder.coef_,\n",
    "                   '강도': reg_robbery.coef_,\n",
    "                   '강간': reg_rape.coef_,\n",
    "                   '절도': reg_thief.coef_,\n",
    "                   '폭행': reg_battery.coef_,\n",
    "                   '총범죄': reg_all_crime.coef_})\n",
    "\n",
    "df_df = pd.DataFrame({'살인': [reg_muder.intercept_],\n",
    "                   '강도': [reg_robbery.intercept_],\n",
    "                   '강간': [reg_rape.intercept_],\n",
    "                   '절도': [reg_thief.intercept_],\n",
    "                   '폭행': [reg_battery.intercept_],\n",
    "                   '총범죄': [reg_all_crime.intercept_]})\n",
    "\n",
    "df = pd.concat([df_df, df])\n",
    "\n",
    "df = df.transpose()\n",
    "df.columns = ['절편', '인구밀도 (명/㎢)', '가로등수']\n",
    "\n",
    "df"
   ]
  }
 ],
 "metadata": {
  "kernelspec": {
   "display_name": "base",
   "language": "python",
   "name": "python3"
  },
  "language_info": {
   "codemirror_mode": {
    "name": "ipython",
    "version": 3
   },
   "file_extension": ".py",
   "mimetype": "text/x-python",
   "name": "python",
   "nbconvert_exporter": "python",
   "pygments_lexer": "ipython3",
   "version": "3.12.7"
  }
 },
 "nbformat": 4,
 "nbformat_minor": 5
}
