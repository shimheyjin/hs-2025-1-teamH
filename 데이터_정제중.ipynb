{
 "cells": [
  {
   "cell_type": "code",
   "execution_count": 1,
   "id": "1239d55b",
   "metadata": {},
   "outputs": [],
   "source": [
    "#import\n",
    "\n",
    "import pandas as pd"
   ]
  },
  {
   "cell_type": "code",
   "execution_count": 2,
   "id": "a0e7c485",
   "metadata": {},
   "outputs": [],
   "source": [
    "df_people_dd = pd.read_csv(\"dongdaemun_people.csv\", skiprows=1, encoding=\"utf-8\")\n",
    "df_people_dd.drop(columns='동별(1)', axis=0, inplace=True)\n",
    "df_people_dd.columns = ['지역', '인구 (명)', '면적 (㎢)', '인구밀도 (명/㎢)']\n",
    "df_people_dd.loc[0] = ('서울동대문구', 359873, 14.22, 25315.00)"
   ]
  },
  {
   "cell_type": "code",
   "execution_count": 3,
   "id": "452b7110",
   "metadata": {},
   "outputs": [],
   "source": [
    "df_people_dj = pd.read_csv(\"dangjin_people.csv\", skiprows=1, encoding=\"utf-8\")\n",
    "df_people_dj.columns = ['지역', '인구 (명)', '인구밀도 (명/㎢)', '면적 (㎢)']\n",
    "df_people_dj.loc[0] = ('충남당진시', 174079, 238.48, 705.53)"
   ]
  },
  {
   "cell_type": "code",
   "execution_count": 4,
   "id": "55735a23",
   "metadata": {},
   "outputs": [],
   "source": [
    "df_people_merged = pd.concat([df_people_dd, df_people_dj], ignore_index=True)\n",
    "df_people_merged = df_people_merged.reset_index(drop=True)"
   ]
  },
  {
   "cell_type": "code",
   "execution_count": 5,
   "id": "2e31ca91",
   "metadata": {},
   "outputs": [
    {
     "data": {
      "text/html": [
       "<div>\n",
       "<style scoped>\n",
       "    .dataframe tbody tr th:only-of-type {\n",
       "        vertical-align: middle;\n",
       "    }\n",
       "\n",
       "    .dataframe tbody tr th {\n",
       "        vertical-align: top;\n",
       "    }\n",
       "\n",
       "    .dataframe thead th {\n",
       "        text-align: right;\n",
       "    }\n",
       "</style>\n",
       "<table border=\"1\" class=\"dataframe\">\n",
       "  <thead>\n",
       "    <tr style=\"text-align: right;\">\n",
       "      <th></th>\n",
       "      <th>지역</th>\n",
       "      <th>인구 (명)</th>\n",
       "      <th>면적 (㎢)</th>\n",
       "      <th>인구밀도 (명/㎢)</th>\n",
       "    </tr>\n",
       "  </thead>\n",
       "  <tbody>\n",
       "    <tr>\n",
       "      <th>0</th>\n",
       "      <td>서울동대문구</td>\n",
       "      <td>359873</td>\n",
       "      <td>14.22</td>\n",
       "      <td>25315.00</td>\n",
       "    </tr>\n",
       "    <tr>\n",
       "      <th>1</th>\n",
       "      <td>충남당진시</td>\n",
       "      <td>174079</td>\n",
       "      <td>705.53</td>\n",
       "      <td>238.48</td>\n",
       "    </tr>\n",
       "  </tbody>\n",
       "</table>\n",
       "</div>"
      ],
      "text/plain": [
       "       지역  인구 (명)  면적 (㎢)  인구밀도 (명/㎢)\n",
       "0  서울동대문구  359873   14.22    25315.00\n",
       "1   충남당진시  174079  705.53      238.48"
      ]
     },
     "execution_count": 5,
     "metadata": {},
     "output_type": "execute_result"
    }
   ],
   "source": [
    "df_people_merged"
   ]
  },
  {
   "cell_type": "code",
   "execution_count": 6,
   "id": "75892c1c",
   "metadata": {},
   "outputs": [],
   "source": [
    "df_crime = pd.read_csv(\"crime2023.csv\", encoding='cp949')\n",
    "df_crime = df_crime[['범죄중분류', '서울동대문구', '충남당진시']]\n",
    "\n",
    "df_crime=df_crime.transpose()\n",
    "df_crime = df_crime.rename(columns=df_crime.iloc[0])\n",
    "df_crime = df_crime.drop(df_crime.index[0])\n",
    "\n",
    "df_crime = df_crime[['살인기수', '강도', '강간', '절도범죄', '폭행']]\n",
    "df_crime = df_crime.reset_index()\n",
    "\n",
    "df_crime.columns = ['지역', '살인기수', '강도', '강간', '절도범죄', '폭행']"
   ]
  },
  {
   "cell_type": "code",
   "execution_count": 7,
   "id": "da574965",
   "metadata": {},
   "outputs": [
    {
     "data": {
      "text/html": [
       "<div>\n",
       "<style scoped>\n",
       "    .dataframe tbody tr th:only-of-type {\n",
       "        vertical-align: middle;\n",
       "    }\n",
       "\n",
       "    .dataframe tbody tr th {\n",
       "        vertical-align: top;\n",
       "    }\n",
       "\n",
       "    .dataframe thead th {\n",
       "        text-align: right;\n",
       "    }\n",
       "</style>\n",
       "<table border=\"1\" class=\"dataframe\">\n",
       "  <thead>\n",
       "    <tr style=\"text-align: right;\">\n",
       "      <th></th>\n",
       "      <th>지역</th>\n",
       "      <th>살인기수</th>\n",
       "      <th>강도</th>\n",
       "      <th>강간</th>\n",
       "      <th>절도범죄</th>\n",
       "      <th>폭행</th>\n",
       "    </tr>\n",
       "  </thead>\n",
       "  <tbody>\n",
       "    <tr>\n",
       "      <th>0</th>\n",
       "      <td>서울동대문구</td>\n",
       "      <td>2</td>\n",
       "      <td>4</td>\n",
       "      <td>36</td>\n",
       "      <td>1278</td>\n",
       "      <td>839</td>\n",
       "    </tr>\n",
       "    <tr>\n",
       "      <th>1</th>\n",
       "      <td>충남당진시</td>\n",
       "      <td>2</td>\n",
       "      <td>1</td>\n",
       "      <td>18</td>\n",
       "      <td>445</td>\n",
       "      <td>338</td>\n",
       "    </tr>\n",
       "  </tbody>\n",
       "</table>\n",
       "</div>"
      ],
      "text/plain": [
       "       지역 살인기수 강도  강간  절도범죄   폭행\n",
       "0  서울동대문구    2  4  36  1278  839\n",
       "1   충남당진시    2  1  18   445  338"
      ]
     },
     "execution_count": 7,
     "metadata": {},
     "output_type": "execute_result"
    }
   ],
   "source": [
    "df_crime"
   ]
  },
  {
   "cell_type": "code",
   "execution_count": 8,
   "id": "2b55a3bd",
   "metadata": {},
   "outputs": [],
   "source": [
    "df_merged = pd.merge(df_people_merged, df_crime, on='지역', how='inner')"
   ]
  },
  {
   "cell_type": "code",
   "execution_count": 9,
   "id": "90504c96",
   "metadata": {},
   "outputs": [
    {
     "data": {
      "text/html": [
       "<div>\n",
       "<style scoped>\n",
       "    .dataframe tbody tr th:only-of-type {\n",
       "        vertical-align: middle;\n",
       "    }\n",
       "\n",
       "    .dataframe tbody tr th {\n",
       "        vertical-align: top;\n",
       "    }\n",
       "\n",
       "    .dataframe thead th {\n",
       "        text-align: right;\n",
       "    }\n",
       "</style>\n",
       "<table border=\"1\" class=\"dataframe\">\n",
       "  <thead>\n",
       "    <tr style=\"text-align: right;\">\n",
       "      <th></th>\n",
       "      <th>지역</th>\n",
       "      <th>인구 (명)</th>\n",
       "      <th>면적 (㎢)</th>\n",
       "      <th>인구밀도 (명/㎢)</th>\n",
       "      <th>살인기수</th>\n",
       "      <th>강도</th>\n",
       "      <th>강간</th>\n",
       "      <th>절도범죄</th>\n",
       "      <th>폭행</th>\n",
       "    </tr>\n",
       "  </thead>\n",
       "  <tbody>\n",
       "    <tr>\n",
       "      <th>0</th>\n",
       "      <td>서울동대문구</td>\n",
       "      <td>359873</td>\n",
       "      <td>14.22</td>\n",
       "      <td>25315.00</td>\n",
       "      <td>2</td>\n",
       "      <td>4</td>\n",
       "      <td>36</td>\n",
       "      <td>1278</td>\n",
       "      <td>839</td>\n",
       "    </tr>\n",
       "    <tr>\n",
       "      <th>1</th>\n",
       "      <td>충남당진시</td>\n",
       "      <td>174079</td>\n",
       "      <td>705.53</td>\n",
       "      <td>238.48</td>\n",
       "      <td>2</td>\n",
       "      <td>1</td>\n",
       "      <td>18</td>\n",
       "      <td>445</td>\n",
       "      <td>338</td>\n",
       "    </tr>\n",
       "  </tbody>\n",
       "</table>\n",
       "</div>"
      ],
      "text/plain": [
       "       지역  인구 (명)  면적 (㎢)  인구밀도 (명/㎢) 살인기수 강도  강간  절도범죄   폭행\n",
       "0  서울동대문구  359873   14.22    25315.00    2  4  36  1278  839\n",
       "1   충남당진시  174079  705.53      238.48    2  1  18   445  338"
      ]
     },
     "execution_count": 9,
     "metadata": {},
     "output_type": "execute_result"
    }
   ],
   "source": [
    "df_merged"
   ]
  }
 ],
 "metadata": {
  "kernelspec": {
   "display_name": "base",
   "language": "python",
   "name": "python3"
  },
  "language_info": {
   "codemirror_mode": {
    "name": "ipython",
    "version": 3
   },
   "file_extension": ".py",
   "mimetype": "text/x-python",
   "name": "python",
   "nbconvert_exporter": "python",
   "pygments_lexer": "ipython3",
   "version": "3.12.7"
  }
 },
 "nbformat": 4,
 "nbformat_minor": 5
}
